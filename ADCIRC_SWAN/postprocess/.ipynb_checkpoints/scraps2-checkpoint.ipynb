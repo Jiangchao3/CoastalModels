{
 "cells": [
  {
   "cell_type": "code",
   "execution_count": null,
   "metadata": {},
   "outputs": [],
   "source": []
  },
  {
   "cell_type": "code",
   "execution_count": 1,
   "metadata": {},
   "outputs": [],
   "source": [
    "import sys;sys.path.append('../../html-maps/html-maps')\n",
    "from mapfun import *\n",
    "from features import *\n",
    "import pathlib as pl\n",
    "import geopandas as gpd\n",
    "import numpy as np\n",
    "import pandas as pd\n",
    "from IPython.display import IFrame\n",
    "import netCDF4 as nc4\n",
    "#import matplotlib.pyplot as plt, mpld3"
   ]
  },
  {
   "cell_type": "code",
   "execution_count": 2,
   "metadata": {},
   "outputs": [
    {
     "data": {
      "text/plain": [
       "<mapfun.mapfun at 0x26af5df1f88>"
      ]
     },
     "execution_count": 2,
     "metadata": {},
     "output_type": "execute_result"
    }
   ],
   "source": [
    "root = pl.Path(r'C:\\Users\\tmiesse\\Work\\arctic\\model\\storm_2008\\adcirc')\n",
    "contour = gpd.read_file(root / 'water-level' /'water-level.shp')\n",
    "contour2 = gpd.read_file(root / 'wind-speed' /'wind-speed.shp')\n",
    "\n",
    "\n",
    "m = mapfun(-160,60,zoom=4)\n",
    "m.add_tiles(tile_type='World_Light_Gray_Base',services='/Canvas')\n",
    "m.add_tiles()"
   ]
  },
  {
   "cell_type": "code",
   "execution_count": 3,
   "metadata": {},
   "outputs": [
    {
     "data": {
      "text/plain": [
       "<folium.map.FeatureGroup at 0x26af5e9cd88>"
      ]
     },
     "execution_count": 3,
     "metadata": {},
     "output_type": "execute_result"
    }
   ],
   "source": [
    "cmap = colormap(contour['eleavg'],cmap_type='winter',vmax=2)\n",
    "cmap2 = []\n",
    "for c in cmap:\n",
    "    cmap2.append(mpl.colors.to_hex(c))\n",
    "fg = folium.FeatureGroup(name='Surge')\n",
    "for idx in contour.index:\n",
    "    folium.Choropleth(geo_data=contour.geometry[idx],fill_color=cmap2[idx],control=True).add_to(fg)\n",
    "fg.add_to(m.map)"
   ]
  },
  {
   "cell_type": "code",
   "execution_count": 4,
   "metadata": {},
   "outputs": [
    {
     "data": {
      "text/plain": [
       "<folium.map.FeatureGroup at 0x26af24bf548>"
      ]
     },
     "execution_count": 4,
     "metadata": {},
     "output_type": "execute_result"
    }
   ],
   "source": [
    "cmap3 = colormap(contour2['wvelavg'],cmap_type='cool',vmax=25)\n",
    "cmap4 = []\n",
    "for c in cmap3:\n",
    "    cmap4.append(mpl.colors.to_hex(c))\n",
    "fg = folium.FeatureGroup(name='Wind')\n",
    "for idx in contour2.index:\n",
    "    folium.Choropleth(geo_data=contour2.geometry[idx],fill_color=cmap4[idx],control=True).add_to(fg)\n",
    "fg.add_to(m.map)"
   ]
  },
  {
   "cell_type": "code",
   "execution_count": 5,
   "metadata": {},
   "outputs": [],
   "source": [
    "add_cbar(contour['eleavg'],np.unique(np.array(cmap2)),m.map,caption='water level (m)')\n",
    "add_cbar(contour2['wvelavg'],np.unique(np.array(cmap4)),m.map,caption='wind (m/s)')\n",
    "m.add_extra()\n",
    "m.map.save(outfile='map.html')\n",
    "#IFrame('map.html', width=800, height=650)"
   ]
  },
  {
   "cell_type": "code",
   "execution_count": null,
   "metadata": {},
   "outputs": [],
   "source": []
  },
  {
   "cell_type": "code",
   "execution_count": null,
   "metadata": {},
   "outputs": [],
   "source": []
  },
  {
   "cell_type": "code",
   "execution_count": null,
   "metadata": {},
   "outputs": [],
   "source": []
  },
  {
   "cell_type": "code",
   "execution_count": null,
   "metadata": {},
   "outputs": [],
   "source": []
  },
  {
   "cell_type": "code",
   "execution_count": null,
   "metadata": {},
   "outputs": [],
   "source": []
  },
  {
   "cell_type": "code",
   "execution_count": null,
   "metadata": {},
   "outputs": [],
   "source": []
  },
  {
   "cell_type": "code",
   "execution_count": null,
   "metadata": {},
   "outputs": [],
   "source": []
  },
  {
   "cell_type": "code",
   "execution_count": null,
   "metadata": {},
   "outputs": [],
   "source": []
  }
 ],
 "metadata": {
  "kernelspec": {
   "display_name": "Python [conda env:general]",
   "language": "python",
   "name": "conda-env-general-py"
  },
  "language_info": {
   "codemirror_mode": {
    "name": "ipython",
    "version": 3
   },
   "file_extension": ".py",
   "mimetype": "text/x-python",
   "name": "python",
   "nbconvert_exporter": "python",
   "pygments_lexer": "ipython3",
   "version": "3.7.6"
  }
 },
 "nbformat": 4,
 "nbformat_minor": 4
}
